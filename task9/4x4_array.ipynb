{
 "cells": [
  {
   "cell_type": "markdown",
   "id": "6f34f940-ed22-4a4b-8597-6c4dc12eeef1",
   "metadata": {},
   "source": [
    "# 4x4 array"
   ]
  },
  {
   "cell_type": "code",
   "execution_count": 2,
   "id": "bb297ea8-4674-4d7b-a0dc-84af7fb3f8c5",
   "metadata": {},
   "outputs": [],
   "source": [
    "import numpy as np\n"
   ]
  },
  {
   "cell_type": "code",
   "execution_count": 3,
   "id": "b8b54e2f-b318-45cc-bc74-a88c590cbdb7",
   "metadata": {},
   "outputs": [],
   "source": [
    "array = np.arange(2, 33, 2).reshape(4, 4)"
   ]
  },
  {
   "cell_type": "code",
   "execution_count": 4,
   "id": "3c8707e9-ebc4-425e-99fd-2573b115a77a",
   "metadata": {},
   "outputs": [],
   "source": [
    "mean = np.mean(array)"
   ]
  },
  {
   "cell_type": "code",
   "execution_count": 7,
   "id": "130bbebb-4aea-43ad-b074-c2c8cf665a77",
   "metadata": {},
   "outputs": [],
   "source": [
    "std_dev = np.std(array)"
   ]
  },
  {
   "cell_type": "code",
   "execution_count": 8,
   "id": "8eacab94-3d81-4a35-8729-631131721054",
   "metadata": {},
   "outputs": [],
   "source": [
    "condition = np.abs(array - mean) < 0.5 * std_dev"
   ]
  },
  {
   "cell_type": "code",
   "execution_count": 9,
   "id": "501cc69e-4e37-4225-93f4-0b4093973116",
   "metadata": {},
   "outputs": [],
   "source": [
    "result = array[condition]\n"
   ]
  },
  {
   "cell_type": "code",
   "execution_count": 10,
   "id": "3d421b17-1f50-4057-991c-2cc6bf257dac",
   "metadata": {},
   "outputs": [
    {
     "name": "stdout",
     "output_type": "stream",
     "text": [
      "Original Array:\n"
     ]
    }
   ],
   "source": [
    "print(\"Original Array:\")"
   ]
  },
  {
   "cell_type": "code",
   "execution_count": 11,
   "id": "91403d25-d21b-44f9-9a48-b62589108e0e",
   "metadata": {},
   "outputs": [
    {
     "name": "stdout",
     "output_type": "stream",
     "text": [
      "[[ 2  4  6  8]\n",
      " [10 12 14 16]\n",
      " [18 20 22 24]\n",
      " [26 28 30 32]]\n"
     ]
    }
   ],
   "source": [
    "print(array)\n"
   ]
  },
  {
   "cell_type": "code",
   "execution_count": 12,
   "id": "ce4c858f-535e-4d10-9e8a-2af234e31d50",
   "metadata": {},
   "outputs": [
    {
     "name": "stdout",
     "output_type": "stream",
     "text": [
      "\n",
      "Values within 1/2 standard deviations of the mean:\n"
     ]
    }
   ],
   "source": [
    "print(\"\\nValues within 1/2 standard deviations of the mean:\")\n"
   ]
  },
  {
   "cell_type": "code",
   "execution_count": 13,
   "id": "4a94cc71-91eb-403c-b0af-eb1ec40d8031",
   "metadata": {},
   "outputs": [
    {
     "name": "stdout",
     "output_type": "stream",
     "text": [
      "[14 16 18 20]\n"
     ]
    }
   ],
   "source": [
    "print(result)\n"
   ]
  },
  {
   "cell_type": "code",
   "execution_count": 14,
   "id": "4cea0400-c6c5-4785-8f72-1b5e8a70c62d",
   "metadata": {},
   "outputs": [
    {
     "name": "stdout",
     "output_type": "stream",
     "text": [
      "[14 16 18 20]\n"
     ]
    }
   ],
   "source": [
    "print (result)"
   ]
  }
 ],
 "metadata": {
  "kernelspec": {
   "display_name": "Python 3 (ipykernel)",
   "language": "python",
   "name": "python3"
  },
  "language_info": {
   "codemirror_mode": {
    "name": "ipython",
    "version": 3
   },
   "file_extension": ".py",
   "mimetype": "text/x-python",
   "name": "python",
   "nbconvert_exporter": "python",
   "pygments_lexer": "ipython3",
   "version": "3.11.7"
  }
 },
 "nbformat": 4,
 "nbformat_minor": 5
}
