{
 "cells": [
  {
   "cell_type": "markdown",
   "id": "b8afa0a2-14f7-4d34-89a4-b010e005bdd8",
   "metadata": {},
   "source": [
    "# black and white "
   ]
  },
  {
   "cell_type": "code",
   "execution_count": 8,
   "id": "a66a3979-9025-4b85-88c5-55b93d98d3db",
   "metadata": {},
   "outputs": [
    {
     "name": "stdin",
     "output_type": "stream",
     "text": [
      " 3 2\n",
      " W W\n",
      " W W\n",
      " B B\n"
     ]
    },
    {
     "name": "stdout",
     "output_type": "stream",
     "text": [
      "#Black&White\n"
     ]
    }
   ],
   "source": [
    "def is_black_and_white(n, m, pixels):\n",
    "    colors = {'C', 'M', 'Y'}\n",
    "    for row in pixels:\n",
    "        for pixel in row:\n",
    "            if pixel in colors:\n",
    "                return False\n",
    "    return True\n",
    "n, m = map(int, input().split())  \n",
    "pixels = [input().split() for _ in range(n)] \n",
    "if is_black_and_white(n, m, pixels):\n",
    "    print(\"#Black&White\")\n",
    "else:\n",
    "    print(\"#Color\")\n"
   ]
  },
  {
   "cell_type": "code",
   "execution_count": null,
   "id": "577563e1-7ff1-4c5d-b0da-2b71684d0d1b",
   "metadata": {},
   "outputs": [],
   "source": []
  }
 ],
 "metadata": {
  "kernelspec": {
   "display_name": "Python 3 (ipykernel)",
   "language": "python",
   "name": "python3"
  },
  "language_info": {
   "codemirror_mode": {
    "name": "ipython",
    "version": 3
   },
   "file_extension": ".py",
   "mimetype": "text/x-python",
   "name": "python",
   "nbconvert_exporter": "python",
   "pygments_lexer": "ipython3",
   "version": "3.11.7"
  }
 },
 "nbformat": 4,
 "nbformat_minor": 5
}
