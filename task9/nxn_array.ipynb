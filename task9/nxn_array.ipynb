{
 "cells": [
  {
   "cell_type": "markdown",
   "id": "516c8f7c-f642-4434-a1f0-d727a2db8222",
   "metadata": {},
   "source": [
    "# nxn Array"
   ]
  },
  {
   "cell_type": "code",
   "execution_count": 1,
   "id": "35eadf9a-fc95-43d2-ab62-508427b86d4b",
   "metadata": {},
   "outputs": [],
   "source": [
    "import numpy as np\n"
   ]
  },
  {
   "cell_type": "code",
   "execution_count": 2,
   "id": "844172af-1d92-4852-ae86-aedd296ca539",
   "metadata": {},
   "outputs": [
    {
     "name": "stdin",
     "output_type": "stream",
     "text": [
      "Enter the value of n:  4\n"
     ]
    }
   ],
   "source": [
    "n = int(input(\"Enter the value of n: \"))\n"
   ]
  },
  {
   "cell_type": "code",
   "execution_count": 3,
   "id": "3a21f691-a32e-40bb-8c62-f3e65bf553fd",
   "metadata": {},
   "outputs": [],
   "source": [
    "col_indices = np.arange(1, n + 1).reshape(-1, 1)\n"
   ]
  },
  {
   "cell_type": "code",
   "execution_count": 4,
   "id": "506a3b15-b884-46bd-99e3-f8a6b8d4e1ad",
   "metadata": {},
   "outputs": [],
   "source": [
    "result = col_indices + np.zeros((n, n), dtype=int)\n"
   ]
  },
  {
   "cell_type": "code",
   "execution_count": 5,
   "id": "3fb03b3e-1fbd-4cf1-bbfb-1025611f95d9",
   "metadata": {},
   "outputs": [
    {
     "name": "stdout",
     "output_type": "stream",
     "text": [
      "[[1 1 1 1]\n",
      " [2 2 2 2]\n",
      " [3 3 3 3]\n",
      " [4 4 4 4]]\n"
     ]
    }
   ],
   "source": [
    "print(result)"
   ]
  },
  {
   "cell_type": "code",
   "execution_count": null,
   "id": "ce15cec6-dba2-47c5-bcba-b6629a14e2aa",
   "metadata": {},
   "outputs": [],
   "source": []
  }
 ],
 "metadata": {
  "kernelspec": {
   "display_name": "Python 3 (ipykernel)",
   "language": "python",
   "name": "python3"
  },
  "language_info": {
   "codemirror_mode": {
    "name": "ipython",
    "version": 3
   },
   "file_extension": ".py",
   "mimetype": "text/x-python",
   "name": "python",
   "nbconvert_exporter": "python",
   "pygments_lexer": "ipython3",
   "version": "3.11.7"
  }
 },
 "nbformat": 4,
 "nbformat_minor": 5
}
