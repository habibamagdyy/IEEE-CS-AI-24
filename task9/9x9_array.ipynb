{
 "cells": [
  {
   "cell_type": "markdown",
   "id": "74ad02bd-6830-4637-8db4-3ba11c249789",
   "metadata": {},
   "source": [
    "# 9x9 Array\n"
   ]
  },
  {
   "cell_type": "code",
   "execution_count": 1,
   "id": "596a235e-0846-4898-803b-aa99f9bcfb9d",
   "metadata": {},
   "outputs": [],
   "source": [
    "import numpy as np"
   ]
  },
  {
   "cell_type": "code",
   "execution_count": 2,
   "id": "c5a599dc-d462-4b14-bf0d-33e052edbd8a",
   "metadata": {},
   "outputs": [],
   "source": [
    "array = np.zeros((9, 9), dtype=int)\n"
   ]
  },
  {
   "cell_type": "code",
   "execution_count": 4,
   "id": "efcf51ea-9098-4a1e-a885-31992be2d94f",
   "metadata": {},
   "outputs": [
    {
     "name": "stdout",
     "output_type": "stream",
     "text": [
      "[[0 0 0 0 0 0 0 0 0]\n",
      " [0 0 0 0 0 0 0 0 0]\n",
      " [0 0 0 0 0 0 0 0 0]\n",
      " [0 0 0 0 0 0 0 0 0]\n",
      " [0 0 0 0 0 0 0 0 0]\n",
      " [0 0 0 0 0 0 0 0 0]\n",
      " [0 0 0 0 0 0 0 0 0]\n",
      " [0 0 0 0 0 0 0 0 0]\n",
      " [0 0 0 0 0 0 0 0 0]]\n"
     ]
    }
   ],
   "source": [
    "print(array)\n"
   ]
  }
 ],
 "metadata": {
  "kernelspec": {
   "display_name": "Python 3 (ipykernel)",
   "language": "python",
   "name": "python3"
  },
  "language_info": {
   "codemirror_mode": {
    "name": "ipython",
    "version": 3
   },
   "file_extension": ".py",
   "mimetype": "text/x-python",
   "name": "python",
   "nbconvert_exporter": "python",
   "pygments_lexer": "ipython3",
   "version": "3.11.7"
  }
 },
 "nbformat": 4,
 "nbformat_minor": 5
}
