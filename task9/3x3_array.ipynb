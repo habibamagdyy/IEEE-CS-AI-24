{
 "cells": [
  {
   "cell_type": "markdown",
   "id": "de211d0a-d340-4e0c-ab90-24c05e7a8754",
   "metadata": {},
   "source": [
    "# 3x3 Array\n",
    "\n"
   ]
  },
  {
   "cell_type": "code",
   "execution_count": null,
   "id": "2ea85c84-2b00-403c-975e-3857a6788c77",
   "metadata": {},
   "outputs": [],
   "source": []
  },
  {
   "cell_type": "code",
   "execution_count": 1,
   "id": "1deeada8-aedd-4643-abb6-63e315889711",
   "metadata": {},
   "outputs": [],
   "source": [
    "import numpy as np"
   ]
  },
  {
   "cell_type": "code",
   "execution_count": 2,
   "id": "e184fe22-686e-4bcf-9190-337450439cf4",
   "metadata": {},
   "outputs": [],
   "source": [
    "array = np.zeros((3, 3))"
   ]
  },
  {
   "cell_type": "code",
   "execution_count": 3,
   "id": "78564f7c-ad3d-4782-9ffe-55b8934a973b",
   "metadata": {},
   "outputs": [],
   "source": [
    "np.fill_diagonal(array, 9)"
   ]
  },
  {
   "cell_type": "code",
   "execution_count": 4,
   "id": "2508caab-5f91-4631-a303-a49b5b4bbc14",
   "metadata": {},
   "outputs": [
    {
     "name": "stdout",
     "output_type": "stream",
     "text": [
      "[[9. 0. 0.]\n",
      " [0. 9. 0.]\n",
      " [0. 0. 9.]]\n"
     ]
    }
   ],
   "source": [
    "print(array)\n"
   ]
  }
 ],
 "metadata": {
  "kernelspec": {
   "display_name": "Python 3 (ipykernel)",
   "language": "python",
   "name": "python3"
  },
  "language_info": {
   "codemirror_mode": {
    "name": "ipython",
    "version": 3
   },
   "file_extension": ".py",
   "mimetype": "text/x-python",
   "name": "python",
   "nbconvert_exporter": "python",
   "pygments_lexer": "ipython3",
   "version": "3.11.7"
  }
 },
 "nbformat": 4,
 "nbformat_minor": 5
}
