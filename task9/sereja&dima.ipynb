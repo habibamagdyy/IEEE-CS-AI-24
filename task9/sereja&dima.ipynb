{
 "cells": [
  {
   "cell_type": "markdown",
   "id": "aa178b23-9cb9-4e10-a321-82866682df93",
   "metadata": {},
   "source": [
    "# sereja and dima challenge"
   ]
  },
  {
   "cell_type": "code",
   "execution_count": null,
   "id": "4fa73299-1a83-4e9d-9652-ad9c5f1292f7",
   "metadata": {},
   "outputs": [],
   "source": [
    "def calculate_scores(n, cards):\n",
    "    sereja_score = 0\n",
    "    dima_score = 0\n",
    "    left = 0\n",
    "    right = n - 1\n",
    "    while left <= right:\n",
    "        if cards[left] > cards[right]:\n",
    "            sereja_score += cards[left]\n",
    "            left += 1\n",
    "        else:\n",
    "            sereja_score += cards[right]\n",
    "            right -= 1\n",
    "\n",
    "        if left <= right:\n",
    "            if cards[left] > cards[right]:\n",
    "                dima_score += cards[left]\n",
    "                left += 1\n",
    "            else:\n",
    "                dima_score += cards[right]\n",
    "                right -= 1\n",
    "\n",
    "    return sereja_score, dima_score\n",
    "\n",
    "n = int(input(\"Enter the number of cards: \"))\n",
    "cards = list(map(int, input(\"Enter the numbers on the cards separated by space: \").split()))\n",
    "\n",
    "sereja_score, dima_score = calculate_scores(n, cards)\n",
    "print(\"Sereja's score:\", sereja_score)\n",
    "print(\"Dima's score:\", dima_score)\n"
   ]
  },
  {
   "cell_type": "code",
   "execution_count": null,
   "id": "0e5535a2-cbb9-49b9-a447-cab9651743d4",
   "metadata": {},
   "outputs": [],
   "source": []
  }
 ],
 "metadata": {
  "kernelspec": {
   "display_name": "Python 3 (ipykernel)",
   "language": "python",
   "name": "python3"
  },
  "language_info": {
   "codemirror_mode": {
    "name": "ipython",
    "version": 3
   },
   "file_extension": ".py",
   "mimetype": "text/x-python",
   "name": "python",
   "nbconvert_exporter": "python",
   "pygments_lexer": "ipython3",
   "version": "3.11.7"
  }
 },
 "nbformat": 4,
 "nbformat_minor": 5
}
